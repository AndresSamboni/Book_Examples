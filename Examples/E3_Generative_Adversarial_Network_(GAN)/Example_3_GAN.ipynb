{
  "nbformat": 4,
  "nbformat_minor": 0,
  "metadata": {
    "colab": {
      "provenance": []
    },
    "kernelspec": {
      "name": "python3",
      "display_name": "Python 3"
    },
    "language_info": {
      "name": "python"
    }
  },
  "cells": [
    {
      "cell_type": "markdown",
      "source": [
        "# <FONT COLOR='darkgreen'>***EXAMPLE 3 – Generative Adversarial Networks (GAN)***<FONT/>\n",
        "\n",
        "---\n",
        "\n",
        "Import the necesary libraries to create the synthetic data, create the model, train, evaluate and visualizate the results\n",
        "\n",
        "---"
      ],
      "metadata": {
        "id": "tiF2G4r1PCiK"
      }
    },
    {
      "cell_type": "code",
      "source": [
        "# Import libraries to data procesing\n",
        "from sklearn.preprocessing import StandardScaler\n",
        "from sklearn.model_selection import train_test_split\n",
        "import numpy as np\n",
        "import pandas as pd\n",
        "\n",
        "# Import libraries to the model\n",
        "from tensorflow.keras.models import Sequential\n",
        "from tensorflow.keras.layers import Dense\n",
        "from tensorflow.keras.optimizers import Adam\n",
        "import tensorflow as tf\n",
        "\n",
        "# Import libraries to visualizate\n",
        "import matplotlib.pyplot as plt\n",
        "import seaborn as sns"
      ],
      "metadata": {
        "id": "k8jOZetxO6ta"
      },
      "execution_count": null,
      "outputs": []
    },
    {
      "cell_type": "markdown",
      "source": [
        "---\n",
        "\n",
        "Generate the synthetic data about the intrusion attacks in the networks\n",
        "\n",
        "---"
      ],
      "metadata": {
        "id": "qhmpCdwtQXhK"
      }
    },
    {
      "cell_type": "code",
      "source": [
        "# Set the seed for the reproducibility of the experiment.\n",
        "seed=42\n",
        "np.random.seed(seed)\n",
        "\n",
        "# features=['packet.time_delta', 'ip.src', 'ip.dst', 'tcp.srcport', 'tcp.dstport', 'udp.srcport', 'udp.dstport', 'packet.len']\n",
        "# Random construction of the normal data\n",
        "normal_data=np.random.normal(\n",
        "  loc=[0.001, 192168010, 192168011, 80, 8080, 53, 53, 60], # Mean\n",
        "  scale=[0.0005, 10, 10, 10, 10, 5, 5, 10], # Standard Deviation\n",
        "  size=(1000, 8) # Size (Row, Column)\n",
        ")\n",
        "\n",
        "# Random construction of the abnormal data\n",
        "abnormal_data=np.random.normal(\n",
        "  loc=[0.1, 192168111, 192168112, 22, 23, 443, 12345, 100], # Mean\n",
        "  scale=[0.02, 20, 20, 20, 20, 10, 10, 20], # Standard Deviation\n",
        "  size=(50, 8) # Size (Row, Column)\n",
        ")\n",
        "\n",
        "# Join the normal data and abnormal data\n",
        "data=np.concatenate([normal_data, abnormal_data])\n",
        "\n",
        "# Shuffle data\n",
        "np.random.shuffle(data)"
      ],
      "metadata": {
        "id": "K8UsMRHzQgRi"
      },
      "execution_count": null,
      "outputs": []
    },
    {
      "cell_type": "markdown",
      "source": [
        "---\n",
        "\n",
        "Perform data preprocessing from the synthetic data created above.\n",
        "\n",
        "---"
      ],
      "metadata": {
        "id": "0AFcd0heUTZ-"
      }
    },
    {
      "cell_type": "code",
      "source": [
        "# Create an scaler to normalize data\n",
        "scaler=StandardScaler() # Normalizar a media 0 y desviación estándar 1.\n",
        "\n",
        "# Normaliza data\n",
        "data=scaler.fit_transform(data)\n",
        "\n",
        "# Split data into training and testing sets\n",
        "# train_data,test_data=train_test_split(data,test_size=0.2,random_state=seed)\n",
        "train_data=data[:900]\n",
        "test_data=data[900:]"
      ],
      "metadata": {
        "id": "1N0aM4MBUoRx"
      },
      "execution_count": null,
      "outputs": []
    },
    {
      "cell_type": "markdown",
      "source": [
        "---\n",
        "\n",
        "Building the GAN model\n",
        "\n",
        "---"
      ],
      "metadata": {
        "id": "atwxikwI9WoU"
      }
    },
    {
      "cell_type": "code",
      "source": [
        "# Define the GAN model\n",
        "class GAN(tf.keras.Model):\n",
        "  # Constructor\n",
        "  def __init__(self, generator, discriminator):\n",
        "    super(GAN, self).__init__()\n",
        "    self.generator = generator\n",
        "    self.discriminator = discriminator\n",
        "\n",
        "  # Compilation method\n",
        "  def compile(self, d_optimizer, g_optimizer, loss_fn):\n",
        "    super(GAN, self).compile()\n",
        "    self.d_optimizer = d_optimizer\n",
        "    self.g_optimizer = g_optimizer\n",
        "    self.loss_fn = loss_fn\n",
        "\n",
        "  def train_step(self, data):\n",
        "    # Unpack the data\n",
        "    batch_size = tf.shape(data)[0]\n",
        "\n",
        "    # Train the discriminator\n",
        "    random_latent_vectors = tf.random.normal(shape=(batch_size, 8))\n",
        "    generated_data = self.generator(random_latent_vectors)\n",
        "    combined_data = tf.concat([generated_data, data], axis=0)\n",
        "\n",
        "    # Discriminator labels\n",
        "    labels = tf.concat([tf.zeros((batch_size, 1)), tf.ones((batch_size, 1))], axis=0)\n",
        "\n",
        "    # Discrimination training loop\n",
        "    with tf.GradientTape() as tape:\n",
        "      predictions = self.discriminator(combined_data)\n",
        "      d_loss = self.loss_fn(labels, predictions)\n",
        "    grads = tape.gradient(d_loss, self.discriminator.trainable_weights)\n",
        "    self.d_optimizer.apply_gradients(zip(grads, self.discriminator.trainable_weights))\n",
        "\n",
        "    # Create fake labels\n",
        "    misleading_labels = tf.ones((batch_size, 1))\n",
        "\n",
        "    # Generator training loop\n",
        "    with tf.GradientTape() as tape:\n",
        "      generated_data = self.generator(random_latent_vectors)\n",
        "      predictions = self.discriminator(generated_data)\n",
        "      g_loss = self.loss_fn(misleading_labels, predictions)\n",
        "    grads = tape.gradient(g_loss, self.generator.trainable_weights)\n",
        "    self.g_optimizer.apply_gradients(zip(grads, self.generator.trainable_weights))\n",
        "\n",
        "    # Return losses\n",
        "    return {\"d_loss\": d_loss, \"g_loss\": g_loss}"
      ],
      "metadata": {
        "id": "Q-a3Y3b6Ot5h"
      },
      "execution_count": null,
      "outputs": []
    },
    {
      "cell_type": "code",
      "source": [
        "# Generator - Neural Network Model\n",
        "generator=Sequential([\n",
        "  Dense(16,input_dim=8,activation='relu'),\n",
        "  Dense(32,activation='relu'),\n",
        "  Dense(8,activation='linear') # Output: 8 features matching the input data shape\n",
        "])\n",
        "\n",
        "# Discriminator - Neural Network Model\n",
        "discriminator=Sequential([\n",
        "  Dense(32,input_dim=8,activation='relu'),\n",
        "  Dense(16,activation='relu'),\n",
        "  Dense(1,activation='sigmoid') # Output: Binary classification (0 or 1)\n",
        "])\n",
        "\n",
        "# Compile the GAN model\n",
        "gan = GAN(generator=generator, discriminator=discriminator)\n",
        "gan.compile(\n",
        "    d_optimizer=Adam(learning_rate=0.0002),\n",
        "    g_optimizer=Adam(learning_rate=0.0002),\n",
        "    loss_fn=tf.keras.losses.BinaryCrossentropy(from_logits=True)\n",
        ")"
      ],
      "metadata": {
        "colab": {
          "base_uri": "https://localhost:8080/"
        },
        "id": "w6Q_JKOG9q9K",
        "outputId": "123e1efb-482a-43f6-8b15-3a8494b20507"
      },
      "execution_count": null,
      "outputs": [
        {
          "output_type": "stream",
          "name": "stderr",
          "text": [
            "/usr/local/lib/python3.10/dist-packages/keras/src/layers/core/dense.py:87: UserWarning: Do not pass an `input_shape`/`input_dim` argument to a layer. When using Sequential models, prefer using an `Input(shape)` object as the first layer in the model instead.\n",
            "  super().__init__(activity_regularizer=activity_regularizer, **kwargs)\n"
          ]
        }
      ]
    },
    {
      "cell_type": "markdown",
      "source": [
        "---\n",
        "\n",
        "We'lll train the GAN model\n",
        "\n",
        "---"
      ],
      "metadata": {
        "id": "-IlXxLOLHfEy"
      }
    },
    {
      "cell_type": "code",
      "source": [
        "# Train the GAN using the fit method\n",
        "gan.fit(train_data, epochs=50, batch_size=16)"
      ],
      "metadata": {
        "colab": {
          "base_uri": "https://localhost:8080/"
        },
        "id": "TekiDULoSSQo",
        "outputId": "def584d9-70f1-452b-cb68-47ca1e03f3cb"
      },
      "execution_count": null,
      "outputs": [
        {
          "output_type": "stream",
          "name": "stdout",
          "text": [
            "Epoch 1/50\n"
          ]
        },
        {
          "output_type": "stream",
          "name": "stderr",
          "text": [
            "/usr/local/lib/python3.10/dist-packages/keras/src/backend/tensorflow/nn.py:681: UserWarning: \"`binary_crossentropy` received `from_logits=True`, but the `output` argument was produced by a Sigmoid activation and thus does not represent logits. Was this intended?\n",
            "  output, from_logits = _get_logits(\n"
          ]
        },
        {
          "output_type": "stream",
          "name": "stdout",
          "text": [
            "\u001b[1m57/57\u001b[0m \u001b[32m━━━━━━━━━━━━━━━━━━━━\u001b[0m\u001b[37m\u001b[0m \u001b[1m4s\u001b[0m 3ms/step - d_loss: 0.7054 - g_loss: 0.6646\n",
            "Epoch 2/50\n",
            "\u001b[1m57/57\u001b[0m \u001b[32m━━━━━━━━━━━━━━━━━━━━\u001b[0m\u001b[37m\u001b[0m \u001b[1m0s\u001b[0m 3ms/step - d_loss: 0.6685 - g_loss: 0.6981\n",
            "Epoch 3/50\n",
            "\u001b[1m57/57\u001b[0m \u001b[32m━━━━━━━━━━━━━━━━━━━━\u001b[0m\u001b[37m\u001b[0m \u001b[1m0s\u001b[0m 3ms/step - d_loss: 0.6174 - g_loss: 0.7531\n",
            "Epoch 4/50\n",
            "\u001b[1m57/57\u001b[0m \u001b[32m━━━━━━━━━━━━━━━━━━━━\u001b[0m\u001b[37m\u001b[0m \u001b[1m0s\u001b[0m 3ms/step - d_loss: 0.5801 - g_loss: 0.7777\n",
            "Epoch 5/50\n",
            "\u001b[1m57/57\u001b[0m \u001b[32m━━━━━━━━━━━━━━━━━━━━\u001b[0m\u001b[37m\u001b[0m \u001b[1m0s\u001b[0m 3ms/step - d_loss: 0.5753 - g_loss: 0.7347\n",
            "Epoch 6/50\n",
            "\u001b[1m57/57\u001b[0m \u001b[32m━━━━━━━━━━━━━━━━━━━━\u001b[0m\u001b[37m\u001b[0m \u001b[1m0s\u001b[0m 3ms/step - d_loss: 0.6088 - g_loss: 0.6452\n",
            "Epoch 7/50\n",
            "\u001b[1m57/57\u001b[0m \u001b[32m━━━━━━━━━━━━━━━━━━━━\u001b[0m\u001b[37m\u001b[0m \u001b[1m0s\u001b[0m 4ms/step - d_loss: 0.6512 - g_loss: 0.5901\n",
            "Epoch 8/50\n",
            "\u001b[1m57/57\u001b[0m \u001b[32m━━━━━━━━━━━━━━━━━━━━\u001b[0m\u001b[37m\u001b[0m \u001b[1m0s\u001b[0m 3ms/step - d_loss: 0.7278 - g_loss: 0.5417\n",
            "Epoch 9/50\n",
            "\u001b[1m57/57\u001b[0m \u001b[32m━━━━━━━━━━━━━━━━━━━━\u001b[0m\u001b[37m\u001b[0m \u001b[1m0s\u001b[0m 3ms/step - d_loss: 0.7381 - g_loss: 0.5917\n",
            "Epoch 10/50\n",
            "\u001b[1m57/57\u001b[0m \u001b[32m━━━━━━━━━━━━━━━━━━━━\u001b[0m\u001b[37m\u001b[0m \u001b[1m0s\u001b[0m 3ms/step - d_loss: 0.7305 - g_loss: 0.6722\n",
            "Epoch 11/50\n",
            "\u001b[1m57/57\u001b[0m \u001b[32m━━━━━━━━━━━━━━━━━━━━\u001b[0m\u001b[37m\u001b[0m \u001b[1m0s\u001b[0m 3ms/step - d_loss: 0.6968 - g_loss: 0.7940\n",
            "Epoch 12/50\n",
            "\u001b[1m57/57\u001b[0m \u001b[32m━━━━━━━━━━━━━━━━━━━━\u001b[0m\u001b[37m\u001b[0m \u001b[1m0s\u001b[0m 3ms/step - d_loss: 0.6569 - g_loss: 0.8896\n",
            "Epoch 13/50\n",
            "\u001b[1m57/57\u001b[0m \u001b[32m━━━━━━━━━━━━━━━━━━━━\u001b[0m\u001b[37m\u001b[0m \u001b[1m0s\u001b[0m 4ms/step - d_loss: 0.6349 - g_loss: 0.9243\n",
            "Epoch 14/50\n",
            "\u001b[1m57/57\u001b[0m \u001b[32m━━━━━━━━━━━━━━━━━━━━\u001b[0m\u001b[37m\u001b[0m \u001b[1m0s\u001b[0m 3ms/step - d_loss: 0.6443 - g_loss: 0.8576\n",
            "Epoch 15/50\n",
            "\u001b[1m57/57\u001b[0m \u001b[32m━━━━━━━━━━━━━━━━━━━━\u001b[0m\u001b[37m\u001b[0m \u001b[1m0s\u001b[0m 3ms/step - d_loss: 0.6687 - g_loss: 0.7824\n",
            "Epoch 16/50\n",
            "\u001b[1m57/57\u001b[0m \u001b[32m━━━━━━━━━━━━━━━━━━━━\u001b[0m\u001b[37m\u001b[0m \u001b[1m0s\u001b[0m 3ms/step - d_loss: 0.6491 - g_loss: 0.8247\n",
            "Epoch 17/50\n",
            "\u001b[1m57/57\u001b[0m \u001b[32m━━━━━━━━━━━━━━━━━━━━\u001b[0m\u001b[37m\u001b[0m \u001b[1m0s\u001b[0m 4ms/step - d_loss: 0.6467 - g_loss: 0.8089\n",
            "Epoch 18/50\n",
            "\u001b[1m57/57\u001b[0m \u001b[32m━━━━━━━━━━━━━━━━━━━━\u001b[0m\u001b[37m\u001b[0m \u001b[1m0s\u001b[0m 4ms/step - d_loss: 0.6657 - g_loss: 0.7574\n",
            "Epoch 19/50\n",
            "\u001b[1m57/57\u001b[0m \u001b[32m━━━━━━━━━━━━━━━━━━━━\u001b[0m\u001b[37m\u001b[0m \u001b[1m0s\u001b[0m 3ms/step - d_loss: 0.6788 - g_loss: 0.7494\n",
            "Epoch 20/50\n",
            "\u001b[1m57/57\u001b[0m \u001b[32m━━━━━━━━━━━━━━━━━━━━\u001b[0m\u001b[37m\u001b[0m \u001b[1m0s\u001b[0m 3ms/step - d_loss: 0.6576 - g_loss: 0.8190\n",
            "Epoch 21/50\n",
            "\u001b[1m57/57\u001b[0m \u001b[32m━━━━━━━━━━━━━━━━━━━━\u001b[0m\u001b[37m\u001b[0m \u001b[1m0s\u001b[0m 4ms/step - d_loss: 0.6362 - g_loss: 0.8789\n",
            "Epoch 22/50\n",
            "\u001b[1m57/57\u001b[0m \u001b[32m━━━━━━━━━━━━━━━━━━━━\u001b[0m\u001b[37m\u001b[0m \u001b[1m0s\u001b[0m 3ms/step - d_loss: 0.6420 - g_loss: 0.8598\n",
            "Epoch 23/50\n",
            "\u001b[1m57/57\u001b[0m \u001b[32m━━━━━━━━━━━━━━━━━━━━\u001b[0m\u001b[37m\u001b[0m \u001b[1m0s\u001b[0m 3ms/step - d_loss: 0.6673 - g_loss: 0.7831\n",
            "Epoch 24/50\n",
            "\u001b[1m57/57\u001b[0m \u001b[32m━━━━━━━━━━━━━━━━━━━━\u001b[0m\u001b[37m\u001b[0m \u001b[1m0s\u001b[0m 3ms/step - d_loss: 0.6839 - g_loss: 0.7185\n",
            "Epoch 25/50\n",
            "\u001b[1m57/57\u001b[0m \u001b[32m━━━━━━━━━━━━━━━━━━━━\u001b[0m\u001b[37m\u001b[0m \u001b[1m0s\u001b[0m 3ms/step - d_loss: 0.6782 - g_loss: 0.7086\n",
            "Epoch 26/50\n",
            "\u001b[1m57/57\u001b[0m \u001b[32m━━━━━━━━━━━━━━━━━━━━\u001b[0m\u001b[37m\u001b[0m \u001b[1m0s\u001b[0m 4ms/step - d_loss: 0.6561 - g_loss: 0.7282\n",
            "Epoch 27/50\n",
            "\u001b[1m57/57\u001b[0m \u001b[32m━━━━━━━━━━━━━━━━━━━━\u001b[0m\u001b[37m\u001b[0m \u001b[1m0s\u001b[0m 3ms/step - d_loss: 0.6451 - g_loss: 0.7232\n",
            "Epoch 28/50\n",
            "\u001b[1m57/57\u001b[0m \u001b[32m━━━━━━━━━━━━━━━━━━━━\u001b[0m\u001b[37m\u001b[0m \u001b[1m0s\u001b[0m 4ms/step - d_loss: 0.6470 - g_loss: 0.7023\n",
            "Epoch 29/50\n",
            "\u001b[1m57/57\u001b[0m \u001b[32m━━━━━━━━━━━━━━━━━━━━\u001b[0m\u001b[37m\u001b[0m \u001b[1m0s\u001b[0m 3ms/step - d_loss: 0.6585 - g_loss: 0.6830\n",
            "Epoch 30/50\n",
            "\u001b[1m57/57\u001b[0m \u001b[32m━━━━━━━━━━━━━━━━━━━━\u001b[0m\u001b[37m\u001b[0m \u001b[1m0s\u001b[0m 3ms/step - d_loss: 0.6636 - g_loss: 0.6903\n",
            "Epoch 31/50\n",
            "\u001b[1m57/57\u001b[0m \u001b[32m━━━━━━━━━━━━━━━━━━━━\u001b[0m\u001b[37m\u001b[0m \u001b[1m0s\u001b[0m 3ms/step - d_loss: 0.6753 - g_loss: 0.6844\n",
            "Epoch 32/50\n",
            "\u001b[1m57/57\u001b[0m \u001b[32m━━━━━━━━━━━━━━━━━━━━\u001b[0m\u001b[37m\u001b[0m \u001b[1m0s\u001b[0m 3ms/step - d_loss: 0.6788 - g_loss: 0.7064\n",
            "Epoch 33/50\n",
            "\u001b[1m57/57\u001b[0m \u001b[32m━━━━━━━━━━━━━━━━━━━━\u001b[0m\u001b[37m\u001b[0m \u001b[1m0s\u001b[0m 3ms/step - d_loss: 0.6582 - g_loss: 0.7865\n",
            "Epoch 34/50\n",
            "\u001b[1m57/57\u001b[0m \u001b[32m━━━━━━━━━━━━━━━━━━━━\u001b[0m\u001b[37m\u001b[0m \u001b[1m0s\u001b[0m 3ms/step - d_loss: 0.6510 - g_loss: 0.8326\n",
            "Epoch 35/50\n",
            "\u001b[1m57/57\u001b[0m \u001b[32m━━━━━━━━━━━━━━━━━━━━\u001b[0m\u001b[37m\u001b[0m \u001b[1m0s\u001b[0m 4ms/step - d_loss: 0.6701 - g_loss: 0.7921\n",
            "Epoch 36/50\n",
            "\u001b[1m57/57\u001b[0m \u001b[32m━━━━━━━━━━━━━━━━━━━━\u001b[0m\u001b[37m\u001b[0m \u001b[1m0s\u001b[0m 4ms/step - d_loss: 0.6924 - g_loss: 0.7755\n",
            "Epoch 37/50\n",
            "\u001b[1m57/57\u001b[0m \u001b[32m━━━━━━━━━━━━━━━━━━━━\u001b[0m\u001b[37m\u001b[0m \u001b[1m0s\u001b[0m 5ms/step - d_loss: 0.6826 - g_loss: 0.8054\n",
            "Epoch 38/50\n",
            "\u001b[1m57/57\u001b[0m \u001b[32m━━━━━━━━━━━━━━━━━━━━\u001b[0m\u001b[37m\u001b[0m \u001b[1m1s\u001b[0m 5ms/step - d_loss: 0.6735 - g_loss: 0.8033\n",
            "Epoch 39/50\n",
            "\u001b[1m57/57\u001b[0m \u001b[32m━━━━━━━━━━━━━━━━━━━━\u001b[0m\u001b[37m\u001b[0m \u001b[1m1s\u001b[0m 5ms/step - d_loss: 0.6587 - g_loss: 0.7850\n",
            "Epoch 40/50\n",
            "\u001b[1m57/57\u001b[0m \u001b[32m━━━━━━━━━━━━━━━━━━━━\u001b[0m\u001b[37m\u001b[0m \u001b[1m1s\u001b[0m 6ms/step - d_loss: 0.6558 - g_loss: 0.7542\n",
            "Epoch 41/50\n",
            "\u001b[1m57/57\u001b[0m \u001b[32m━━━━━━━━━━━━━━━━━━━━\u001b[0m\u001b[37m\u001b[0m \u001b[1m0s\u001b[0m 5ms/step - d_loss: 0.6710 - g_loss: 0.6954\n",
            "Epoch 42/50\n",
            "\u001b[1m57/57\u001b[0m \u001b[32m━━━━━━━━━━━━━━━━━━━━\u001b[0m\u001b[37m\u001b[0m \u001b[1m1s\u001b[0m 5ms/step - d_loss: 0.6796 - g_loss: 0.6847\n",
            "Epoch 43/50\n",
            "\u001b[1m57/57\u001b[0m \u001b[32m━━━━━━━━━━━━━━━━━━━━\u001b[0m\u001b[37m\u001b[0m \u001b[1m0s\u001b[0m 3ms/step - d_loss: 0.6926 - g_loss: 0.6859\n",
            "Epoch 44/50\n",
            "\u001b[1m57/57\u001b[0m \u001b[32m━━━━━━━━━━━━━━━━━━━━\u001b[0m\u001b[37m\u001b[0m \u001b[1m0s\u001b[0m 4ms/step - d_loss: 0.6946 - g_loss: 0.7076\n",
            "Epoch 45/50\n",
            "\u001b[1m57/57\u001b[0m \u001b[32m━━━━━━━━━━━━━━━━━━━━\u001b[0m\u001b[37m\u001b[0m \u001b[1m0s\u001b[0m 3ms/step - d_loss: 0.6788 - g_loss: 0.7601\n",
            "Epoch 46/50\n",
            "\u001b[1m57/57\u001b[0m \u001b[32m━━━━━━━━━━━━━━━━━━━━\u001b[0m\u001b[37m\u001b[0m \u001b[1m0s\u001b[0m 3ms/step - d_loss: 0.6713 - g_loss: 0.7731\n",
            "Epoch 47/50\n",
            "\u001b[1m57/57\u001b[0m \u001b[32m━━━━━━━━━━━━━━━━━━━━\u001b[0m\u001b[37m\u001b[0m \u001b[1m0s\u001b[0m 3ms/step - d_loss: 0.6801 - g_loss: 0.7623\n",
            "Epoch 48/50\n",
            "\u001b[1m57/57\u001b[0m \u001b[32m━━━━━━━━━━━━━━━━━━━━\u001b[0m\u001b[37m\u001b[0m \u001b[1m0s\u001b[0m 4ms/step - d_loss: 0.6824 - g_loss: 0.7322\n",
            "Epoch 49/50\n",
            "\u001b[1m57/57\u001b[0m \u001b[32m━━━━━━━━━━━━━━━━━━━━\u001b[0m\u001b[37m\u001b[0m \u001b[1m0s\u001b[0m 3ms/step - d_loss: 0.6833 - g_loss: 0.7052\n",
            "Epoch 50/50\n",
            "\u001b[1m57/57\u001b[0m \u001b[32m━━━━━━━━━━━━━━━━━━━━\u001b[0m\u001b[37m\u001b[0m \u001b[1m0s\u001b[0m 3ms/step - d_loss: 0.6789 - g_loss: 0.6803\n"
          ]
        },
        {
          "output_type": "execute_result",
          "data": {
            "text/plain": [
              "<keras.src.callbacks.history.History at 0x786f78c7aad0>"
            ]
          },
          "metadata": {},
          "execution_count": 26
        }
      ]
    },
    {
      "cell_type": "markdown",
      "source": [
        "---\n",
        "\n",
        "We'lll predict with the GAN model and the test_data\n",
        "\n",
        "---"
      ],
      "metadata": {
        "id": "UCJaPICeSYi6"
      }
    },
    {
      "cell_type": "code",
      "source": [
        "# Detect intrusions by calculation reconstruction error (reconstruction loss)\n",
        "reconstructions = generator.predict(test_data)\n",
        "mse = np.mean(np.power(test_data - reconstructions, 2), axis=1)\n",
        "\n",
        "# Define the threshold for intrusion detection\n",
        "threshold = np.percentile(mse, 95)\n",
        "intrusions = mse > threshold"
      ],
      "metadata": {
        "colab": {
          "base_uri": "https://localhost:8080/"
        },
        "id": "RLb4L6VBPFAh",
        "outputId": "19d77b50-b986-4750-96e0-502373284c2d"
      },
      "execution_count": null,
      "outputs": [
        {
          "output_type": "stream",
          "name": "stdout",
          "text": [
            "\u001b[1m5/5\u001b[0m \u001b[32m━━━━━━━━━━━━━━━━━━━━\u001b[0m\u001b[37m\u001b[0m \u001b[1m0s\u001b[0m 3ms/step \n"
          ]
        }
      ]
    },
    {
      "cell_type": "code",
      "source": [
        "#Plotting the distribution of reconstruction error\n",
        "sns.histplot(mse, bins=50, kde=True)\n",
        "plt.axvline(threshold, color='r', linestyle='--', label='Threshold')\n",
        "plt.title('Reconstruction Error Distribution')\n",
        "plt.xlabel('Reconstruction Error')\n",
        "plt.ylabel('Frequency')\n",
        "plt.legend()\n",
        "plt.show()\n",
        "\n",
        "#Print number of detected intrusions\n",
        "print(f\"Number of detected intrusions: {np.sum(intrusions)}\")"
      ],
      "metadata": {
        "colab": {
          "base_uri": "https://localhost:8080/",
          "height": 489
        },
        "id": "5dey3oqOPSN9",
        "outputId": "f73d349f-e8f8-43f9-831e-693fccd7958c"
      },
      "execution_count": null,
      "outputs": [
        {
          "output_type": "display_data",
          "data": {
            "text/plain": [
              "<Figure size 640x480 with 1 Axes>"
            ],
            "image/png": "[encoded data removed]"
          },
          "metadata": {}
        },
        {
          "output_type": "stream",
          "name": "stdout",
          "text": [
            "Number of detected intrusions: 8\n"
          ]
        }
      ]
    }
  ]
}